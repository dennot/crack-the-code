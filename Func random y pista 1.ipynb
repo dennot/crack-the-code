{
 "cells": [
  {
   "cell_type": "code",
   "execution_count": 29,
   "metadata": {},
   "outputs": [],
   "source": [
    "import random"
   ]
  },
  {
   "cell_type": "code",
   "execution_count": 30,
   "metadata": {},
   "outputs": [],
   "source": [
    "def randomNumberLock():\n",
    "\n",
    "    lock_code = random.sample(range(0, 9), 3)\n",
    "    return lock_code"
   ]
  },
  {
   "cell_type": "code",
   "execution_count": 76,
   "metadata": {
    "scrolled": false
   },
   "outputs": [
    {
     "name": "stdout",
     "output_type": "stream",
     "text": [
      "[8, 4, 3]\n"
     ]
    }
   ],
   "source": [
    "Code = randomNumberLock()\n",
    "print(Code)"
   ]
  },
  {
   "cell_type": "code",
   "execution_count": 95,
   "metadata": {},
   "outputs": [
    {
     "name": "stdout",
     "output_type": "stream",
     "text": [
      "{0: 5, 1: 5, 2: 9}\n"
     ]
    }
   ],
   "source": [
    "lock_code = {k: random.randint(0, 9) for k in range(3)}\n",
    "print(lock_code)"
   ]
  },
  {
   "cell_type": "code",
   "execution_count": 91,
   "metadata": {
    "scrolled": true
   },
   "outputs": [
    {
     "name": "stdout",
     "output_type": "stream",
     "text": [
      "[8, 4, 3]\n",
      "[3, 4, 1]\n"
     ]
    }
   ],
   "source": [
    "#Un num está bien y bien ubicado\n",
    "def pista1(Code):\n",
    "    \"\"\" Esta parte genera una lista nueva\"\"\"\n",
    "    pista1 = random.sample(range(0, 9), 3)\n",
    "    random_number = random.randint(0, 2)\n",
    "    valor_num_correcto = Code[random_number]\n",
    "    \"\"\" Esta parte \"\"\"\n",
    "    indice = 0\n",
    "    for valor in pista1:\n",
    "        if valor == valor_num_correcto:\n",
    "            pista1[indice] = random.randint(0, 9)\n",
    "        indice += 1\n",
    "    pista1[random_number] = valor_num_correcto\n",
    "    print(Code)\n",
    "    print(pista1)\n",
    "    \n",
    "pista1(Code)"
   ]
  },
  {
   "cell_type": "code",
   "execution_count": null,
   "metadata": {},
   "outputs": [],
   "source": []
  }
 ],
 "metadata": {
  "kernelspec": {
   "display_name": "Python 3",
   "language": "python",
   "name": "python3"
  },
  "language_info": {
   "codemirror_mode": {
    "name": "ipython",
    "version": 3
   },
   "file_extension": ".py",
   "mimetype": "text/x-python",
   "name": "python",
   "nbconvert_exporter": "python",
   "pygments_lexer": "ipython3",
   "version": "3.8.5"
  }
 },
 "nbformat": 4,
 "nbformat_minor": 4
}
