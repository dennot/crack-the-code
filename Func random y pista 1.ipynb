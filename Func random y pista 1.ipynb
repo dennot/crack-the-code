{
 "cells": [
  {
   "cell_type": "code",
   "execution_count": 69,
   "metadata": {},
   "outputs": [],
   "source": [
    "import random"
   ]
  },
  {
   "cell_type": "code",
   "execution_count": 70,
   "metadata": {},
   "outputs": [],
   "source": [
    "def randomNumberLock():\n",
    "\n",
    "    lock_code = random.sample(range(0, 10), 3)\n",
    "    return lock_code"
   ]
  },
  {
   "cell_type": "code",
   "execution_count": 71,
   "metadata": {
    "scrolled": false
   },
   "outputs": [
    {
     "name": "stdout",
     "output_type": "stream",
     "text": [
      "[1, 5, 9]\n"
     ]
    }
   ],
   "source": [
    "Code = randomNumberLock()\n",
    "print(Code)"
   ]
  },
  {
   "cell_type": "code",
   "execution_count": 72,
   "metadata": {
    "scrolled": true
   },
   "outputs": [
    {
     "name": "stdout",
     "output_type": "stream",
     "text": [
      "[1, 5, 9]\n",
      "[1, 0, 8]\n"
     ]
    }
   ],
   "source": [
    "#Un num está bien y bien ubicado\n",
    "def pista1(Code):\n",
    "    \"\"\" Esta parte genera una lista nueva \"\"\"\n",
    "    pista1 = random.sample(range(0, 10), 3)\n",
    "    random_number = random.randint(0, 2)\n",
    "    valor_num_correcto = Code[random_number]\n",
    "    \"\"\" Esta parte se asegura que solo un numero se repita\"\"\"\n",
    "    indice = 0\n",
    "    for valor in pista1:\n",
    "        if valor == valor_num_correcto:\n",
    "            pista1[indice] = random.randint(0, 9)\n",
    "        indice += 1\n",
    "    pista1[random_number] = valor_num_correcto\n",
    "    print(Code)\n",
    "    print(pista1)\n",
    "    \n",
    "pista1(Code)"
   ]
  },
  {
   "cell_type": "code",
   "execution_count": 73,
   "metadata": {
    "scrolled": false
   },
   "outputs": [
    {
     "data": {
      "text/plain": [
       "[0, 2, 3, 4, 6, 7, 8]"
      ]
     },
     "execution_count": 73,
     "metadata": {},
     "output_type": "execute_result"
    }
   ],
   "source": [
    "#Ningun número está bien primer paso\n",
    "def List_pista5(Code):\n",
    "    Lista_inicial = list(range(0,10))\n",
    "    Lista_Code = Code\n",
    "    en_lista_inicial = set(Lista_inicial)\n",
    "    en_lista_Code = set(Code)\n",
    "    List_sin_dups = en_lista_inicial - en_lista_Code\n",
    "    return list(List_sin_dups)\n",
    "\n",
    "List_pista5(Code)"
   ]
  },
  {
   "cell_type": "code",
   "execution_count": 74,
   "metadata": {},
   "outputs": [],
   "source": [
    "Code5 = List_pista5(Code)"
   ]
  },
  {
   "cell_type": "code",
   "execution_count": 75,
   "metadata": {},
   "outputs": [
    {
     "name": "stdout",
     "output_type": "stream",
     "text": [
      "[1, 5, 9]\n",
      "[8, 6, 4]\n"
     ]
    }
   ],
   "source": [
    "#Ningun número está bien segundo paso\n",
    "def pista5(Code5):\n",
    "    pista5 = random.sample(Code5, 3)\n",
    "    print(pista5)\n",
    "    \n",
    "print(Code)\n",
    "pista5(Code5)"
   ]
  },
  {
   "cell_type": "code",
   "execution_count": null,
   "metadata": {},
   "outputs": [],
   "source": []
  }
 ],
 "metadata": {
  "kernelspec": {
   "display_name": "Python 3",
   "language": "python",
   "name": "python3"
  },
  "language_info": {
   "codemirror_mode": {
    "name": "ipython",
    "version": 3
   },
   "file_extension": ".py",
   "mimetype": "text/x-python",
   "name": "python",
   "nbconvert_exporter": "python",
   "pygments_lexer": "ipython3",
   "version": "3.8.5"
  }
 },
 "nbformat": 4,
 "nbformat_minor": 4
}
